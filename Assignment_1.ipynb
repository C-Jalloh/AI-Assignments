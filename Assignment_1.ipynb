{
  "nbformat": 4,
  "nbformat_minor": 0,
  "metadata": {
    "colab": {
      "provenance": [],
      "mount_file_id": "1pZr_fY6ZoD9EV0eiNumUcP0nadWsU8w4",
      "authorship_tag": "ABX9TyO5aDljLAGLr49LUu8hnZm8",
      "include_colab_link": true
    },
    "kernelspec": {
      "name": "python3",
      "display_name": "Python 3"
    },
    "language_info": {
      "name": "python"
    }
  },
  "cells": [
    {
      "cell_type": "markdown",
      "metadata": {
        "id": "view-in-github",
        "colab_type": "text"
      },
      "source": [
        "<a href=\"https://colab.research.google.com/github/C-Jalloh/AI-Assignments/blob/main/Assignment_1.ipynb\" target=\"_parent\"><img src=\"https://colab.research.google.com/assets/colab-badge.svg\" alt=\"Open In Colab\"/></a>"
      ]
    },
    {
      "cell_type": "markdown",
      "source": [
        "#ASSIGNMENT 1\n",
        "\n",
        "##_Task 1: Employee Data Management_"
      ],
      "metadata": {
        "id": "6LZ5sQg3x9_D"
      }
    },
    {
      "cell_type": "markdown",
      "source": [
        "###1. *Create Variables*"
      ],
      "metadata": {
        "id": "dT8V0xdZyW6g"
      }
    },
    {
      "cell_type": "code",
      "execution_count": 63,
      "metadata": {
        "id": "T9xQIRUYxInC"
      },
      "outputs": [],
      "source": [
        "employee_names = [\"Alice\", \"Bob\", \"Charlie\", \"Ebrima\"]\n",
        "employee_salaries = {\n",
        "    \"Alice\": 70000,\n",
        "    \"Bob\": 65000,\n",
        "    \"Charlie\": 60000,\n",
        "  \"Ebrima\": 1000000\n",
        "}\n",
        "\n"
      ]
    },
    {
      "cell_type": "markdown",
      "source": [
        "2. Function: _Add Employee_"
      ],
      "metadata": {
        "id": "wf-DgIslzLZt"
      }
    },
    {
      "cell_type": "code",
      "source": [
        "def add_employee(name, salary):\n",
        "    \"\"\"Adds a new employee to the employee records.\n",
        "\n",
        "    Args:\n",
        "        name: The name of the employee to add.\n",
        "        salary: The salary of the employee.\n",
        "    \"\"\"\n",
        "    employee_names.append(name)  # Add the employee's name to the list of employee names\n",
        "    employee_salaries[name] = salary  # Add the employee's name and salary to the salary dictionary"
      ],
      "metadata": {
        "id": "kvfajGpzzSBg"
      },
      "execution_count": 64,
      "outputs": []
    },
    {
      "cell_type": "markdown",
      "source": [
        "3. _Function: Remove Employee_"
      ],
      "metadata": {
        "id": "0tEzH-TN0OYp"
      }
    },
    {
      "cell_type": "code",
      "source": [
        "def remove_employee(name):\n",
        "    \"\"\"Removes an employee from the employee records.\n",
        "\n",
        "    Args:\n",
        "        name: The name of the employee to remove.\n",
        "    \"\"\"\n",
        "    if name in employee_names:\n",
        "        employee_names.remove(name)  # Remove employee from the names list\n",
        "        del employee_salaries[name]  # Remove employee and their salary from the dictionary\n",
        "    else:\n",
        "        print(f\"Employee {name} not found.\")  # Print message if employee not found"
      ],
      "metadata": {
        "id": "L9SYhb970Y2H"
      },
      "execution_count": 65,
      "outputs": []
    },
    {
      "cell_type": "markdown",
      "source": [
        "4. Function: _Update Salary_"
      ],
      "metadata": {
        "id": "n9nEki1d1oTU"
      }
    },
    {
      "cell_type": "code",
      "source": [
        "def update_salary(name, new_salary):\n",
        "    \"\"\"Updates the salary of an existing employee.\n",
        "\n",
        "    Args:\n",
        "        name: The name of the employee whose salary needs to be updated.\n",
        "        new_salary: The new salary for the employee.\n",
        "    \"\"\"\n",
        "    if name in employee_names:\n",
        "        employee_salaries[name] = new_salary  # Update the employee's salary in the dictionary\n",
        "    else:\n",
        "        print(f\"Employee {name} not found.\")  # Print a message if the employee is not found"
      ],
      "metadata": {
        "id": "d8x4FfRU1ssL"
      },
      "execution_count": 66,
      "outputs": []
    },
    {
      "cell_type": "markdown",
      "source": [
        "5. Function: _Calculate Average Salary_"
      ],
      "metadata": {
        "id": "hqXTYVuh1yPL"
      }
    },
    {
      "cell_type": "code",
      "source": [
        "def average_salary():\n",
        "    \"\"\"Calculates the average salary of all employees.\n",
        "\n",
        "    Returns:\n",
        "        The average salary of all employees.\n",
        "    \"\"\"\n",
        "    total_salary = sum(employee_salaries.values())  # Calculate the total salary of all employees\n",
        "    average_salary = total_salary / len(employee_names)  # Calculate the average salary\n",
        "    return average_salary  # Return the average salary"
      ],
      "metadata": {
        "id": "Tv7lZykS15EE"
      },
      "execution_count": 67,
      "outputs": []
    },
    {
      "cell_type": "markdown",
      "source": [
        "## **TESTS**\n",
        "###_Task 1_"
      ],
      "metadata": {
        "id": "vviEhf922v7V"
      }
    },
    {
      "cell_type": "code",
      "source": [
        "# prompt: create a test for the functions above\n",
        "\n",
        "# Test add_employee\n",
        "add_employee(\"David\", 75000)\n",
        "assert \"David\" in employee_names\n",
        "assert employee_salaries[\"David\"] == 75000\n",
        "print(\"Test add_employee\")\n",
        "print(employee_names)\n",
        "print(employee_salaries)\n",
        "\n",
        "# Test remove_employee\n",
        "remove_employee(\"Bob\")\n",
        "assert \"Bob\" not in employee_names\n",
        "assert \"Bob\" not in employee_salaries\n",
        "print(\"Test remove_employee\")\n",
        "print(employee_names)\n",
        "print(employee_salaries)\n",
        "\n",
        "# Test update_salary\n",
        "update_salary(\"Alice\", 80000)\n",
        "assert employee_salaries[\"Alice\"] == 80000\n",
        "print(\"Test update_salary\")\n",
        "print(employee_names)\n",
        "print(employee_salaries)\n",
        "\n",
        "# Test average_salary\n",
        "avg_salary = average_salary()\n",
        "assert avg_salary == (employee_salaries[\"Alice\"] + employee_salaries[\"Charlie\"] + employee_salaries[\"David\"]+ employee_salaries[\"Ebrima\"]) / len(employee_names)\n",
        "print(\"Test average_salary\")\n",
        "print(avg_salary)\n",
        "\n",
        "print(\"All tests passed!\")\n"
      ],
      "metadata": {
        "colab": {
          "base_uri": "https://localhost:8080/"
        },
        "id": "XtwDG2pw2vOe",
        "outputId": "32a860e0-9e43-4f5e-da25-e4dabc8a31d4"
      },
      "execution_count": 68,
      "outputs": [
        {
          "output_type": "stream",
          "name": "stdout",
          "text": [
            "Test add_employee\n",
            "['Alice', 'Bob', 'Charlie', 'Ebrima', 'David']\n",
            "{'Alice': 70000, 'Bob': 65000, 'Charlie': 60000, 'Ebrima': 1000000, 'David': 75000}\n",
            "Test remove_employee\n",
            "['Alice', 'Charlie', 'Ebrima', 'David']\n",
            "{'Alice': 70000, 'Charlie': 60000, 'Ebrima': 1000000, 'David': 75000}\n",
            "Test update_salary\n",
            "['Alice', 'Charlie', 'Ebrima', 'David']\n",
            "{'Alice': 80000, 'Charlie': 60000, 'Ebrima': 1000000, 'David': 75000}\n",
            "Test average_salary\n",
            "303750.0\n",
            "All tests passed!\n"
          ]
        }
      ]
    },
    {
      "cell_type": "markdown",
      "source": [
        "##Task 2: Nested Data Structure - Department Budget"
      ],
      "metadata": {
        "id": "mgJ3mZCF9yR6"
      }
    },
    {
      "cell_type": "markdown",
      "source": [
        "1. _Create Nested Dictionary_"
      ],
      "metadata": {
        "id": "ErAZJzuZ9-gB"
      }
    },
    {
      "cell_type": "code",
      "source": [
        "departments = {\n",
        "    \"HR\": {\n",
        "        \"budget\": 200000,\n",
        "        \"employees\": [\"Alice\", \"David\"]\n",
        "    },\n",
        "    \"Engineering\": {\n",
        "        \"budget\": 300000,\n",
        "        \"employees\": [\"Bob\"]\n",
        "    },\n",
        "    \"Finance\": {\n",
        "        \"budget\": 150000,\n",
        "        \"employees\": [\"Charlie\"]\n",
        "    }\n",
        "}"
      ],
      "metadata": {
        "id": "b9py6rzS91qs"
      },
      "execution_count": 69,
      "outputs": []
    },
    {
      "cell_type": "markdown",
      "source": [
        "2. _Function: Add Department_"
      ],
      "metadata": {
        "id": "gxQV_Rv6_KG4"
      }
    },
    {
      "cell_type": "code",
      "source": [
        "def add_department(department_name, budget):\n",
        "    \"\"\"Adds a new department to the departments dictionary.\n",
        "\n",
        "    Args:\n",
        "        department_name: The name of the department to add.\n",
        "        budget: The initial budget for the department.\n",
        "    \"\"\"\n",
        "    departments[department_name] = {\"budget\": budget, \"employees\": []}  # Add the new department with its budget and an empty employee list"
      ],
      "metadata": {
        "id": "O9AsOQyS_M6u"
      },
      "execution_count": 70,
      "outputs": []
    },
    {
      "cell_type": "markdown",
      "source": [
        "3. Function: _Add Employee to Department_"
      ],
      "metadata": {
        "id": "GnZ6PK-s_eUz"
      }
    },
    {
      "cell_type": "code",
      "source": [
        "def assign_employee_to_department(emp_name, dept_name):\n",
        "  \"\"\"Assigns an employee to a specific department.\n",
        "\n",
        "  Args:\n",
        "      emp_name: The name of the employee to assign.\n",
        "      dept_name: The name of the department to assign the employee to.\n",
        "  \"\"\"\n",
        "  if dept_name in departments:\n",
        "      departments[dept_name][\"employees\"].append(emp_name)  # Add the employee to the department's employee list\n",
        "  else:\n",
        "      print(f\"Department {dept_name} not found.\")  # Print a message if the department is not found"
      ],
      "metadata": {
        "id": "VkWqJIoF_huK"
      },
      "execution_count": 71,
      "outputs": []
    },
    {
      "cell_type": "markdown",
      "source": [
        "4. Function: _Department Budget Remaining_"
      ],
      "metadata": {
        "id": "hKOvsyNZAJKb"
      }
    },
    {
      "source": [
        "def remaining_budget(dept_name):\n",
        "    \"\"\"Calculates and returns the remaining budget for a department.\n",
        "\n",
        "    Args:\n",
        "        dept_name: The name of the department.\n",
        "\n",
        "    Returns:\n",
        "        The remaining budget for the department.\n",
        "        Returns an error message if the department does not exist.\n",
        "    \"\"\"\n",
        "    if dept_name not in departments:\n",
        "        return \"Department not found\"  # Return an error message\n",
        "\n",
        "    dept_budget = departments[dept_name][\"budget\"]\n",
        "    total_salaries = 0\n",
        "    for employee in departments[dept_name][\"employees\"]:\n",
        "        if employee in employee_salaries:  # Check if employee exists in salary dict\n",
        "            total_salaries += employee_salaries[employee]\n",
        "\n",
        "    remaining = dept_budget - total_salaries\n",
        "    return remaining"
      ],
      "cell_type": "code",
      "metadata": {
        "id": "aa8LGF8kAkQq"
      },
      "execution_count": 72,
      "outputs": []
    },
    {
      "cell_type": "markdown",
      "source": [
        "## **TESTS**\n",
        "###_Task 2_"
      ],
      "metadata": {
        "id": "-hP0q1OUHuKh"
      }
    },
    {
      "cell_type": "code",
      "source": [
        "# prompt: create a test for the above functions in tas 2\n",
        "\n",
        "# Test add_department\n",
        "add_department(\"Sales\", 250000)\n",
        "assert \"Sales\" in departments\n",
        "assert departments[\"Sales\"][\"budget\"] == 250000\n",
        "print(\"Test add_department\")\n",
        "print(departments)\n",
        "\n",
        "# Test assign_employee_to_department\n",
        "assign_employee_to_department(\"Ebrima\", \"Sales\")\n",
        "assert \"Ebrima\" in departments[\"Sales\"][\"employees\"]\n",
        "print(\"Test assign_employee_to_department\")\n",
        "print(departments)\n",
        "\n",
        "# Test remaining_budget\n",
        "remaining = remaining_budget(\"HR\")\n",
        "assert remaining == departments[\"HR\"][\"budget\"] - (employee_salaries[\"Alice\"] + employee_salaries[\"David\"])\n",
        "print(\"Test remaining_budget\")\n",
        "print(remaining)\n",
        "\n",
        "remaining = remaining_budget(\"Sales\")\n",
        "assert remaining == departments[\"Sales\"][\"budget\"] - employee_salaries[\"Ebrima\"]\n",
        "print(remaining)\n",
        "\n",
        "print(\"All tests passed!\")\n"
      ],
      "metadata": {
        "colab": {
          "base_uri": "https://localhost:8080/"
        },
        "id": "vS1eH8DBBIho",
        "outputId": "14e668f1-07fe-4457-ae44-455ba8a9a3a2"
      },
      "execution_count": 73,
      "outputs": [
        {
          "output_type": "stream",
          "name": "stdout",
          "text": [
            "Test add_department\n",
            "{'HR': {'budget': 200000, 'employees': ['Alice', 'David']}, 'Engineering': {'budget': 300000, 'employees': ['Bob']}, 'Finance': {'budget': 150000, 'employees': ['Charlie']}, 'Sales': {'budget': 250000, 'employees': []}}\n",
            "Test assign_employee_to_department\n",
            "{'HR': {'budget': 200000, 'employees': ['Alice', 'David']}, 'Engineering': {'budget': 300000, 'employees': ['Bob']}, 'Finance': {'budget': 150000, 'employees': ['Charlie']}, 'Sales': {'budget': 250000, 'employees': ['Ebrima']}}\n",
            "Test remaining_budget\n",
            "45000\n",
            "-750000\n",
            "All tests passed!\n"
          ]
        }
      ]
    },
    {
      "cell_type": "markdown",
      "source": [
        "##Task 3: Variable Scope Challenge"
      ],
      "metadata": {
        "id": "NkctMeQ3B_N_"
      }
    },
    {
      "cell_type": "markdown",
      "source": [
        "1. _Global vs Local Variables_"
      ],
      "metadata": {
        "id": "QYbH7wYtCCAU"
      }
    },
    {
      "cell_type": "code",
      "source": [
        "def scope_test():\n",
        "    x = 10  # Local variable\n",
        "    print(\"Inside function:\", x)\n",
        "\n",
        "x = 20  # Global variable\n",
        "scope_test()\n",
        "print(\"Outside function:\", x)"
      ],
      "metadata": {
        "colab": {
          "base_uri": "https://localhost:8080/"
        },
        "id": "FVITJBl4CF64",
        "outputId": "b1db1173-b0a4-4223-c6be-d462a3c6c9ca"
      },
      "execution_count": 74,
      "outputs": [
        {
          "output_type": "stream",
          "name": "stdout",
          "text": [
            "Inside function: 10\n",
            "Outside function: 20\n"
          ]
        }
      ]
    },
    {
      "cell_type": "markdown",
      "source": [
        "##Extra Credit"
      ],
      "metadata": {
        "id": "AZ9Ku0T9DYYh"
      }
    },
    {
      "cell_type": "markdown",
      "source": [
        "_Sorting Employees by Salary_"
      ],
      "metadata": {
        "id": "Jid1_qgbDdYQ"
      }
    },
    {
      "source": [
        "def sort_employees_by_salary():\n",
        "    \"\"\"Sorts employees in descending order based on their salaries.\n",
        "\n",
        "    Returns:\n",
        "        A list of employee names sorted by salary in descending order.\n",
        "    \"\"\"\n",
        "    sorted_employees = sorted(employee_salaries.items(), key=lambda item: item[1], reverse=True)\n",
        "    return [employee[0] for employee in sorted_employees]"
      ],
      "cell_type": "code",
      "metadata": {
        "id": "C4Vc3KoXDo1n"
      },
      "execution_count": 75,
      "outputs": []
    },
    {
      "cell_type": "markdown",
      "source": [
        "This line of code is sorting the employees based on their salaries in descending order. Here's a breakdown:\n",
        "\n",
        "`employee_salaries.items()`: This part gets the key-value pairs *(employee name and salary) *from the employee_salaries dictionary and returns them as a list of tuples. For example: *`[('Alice', 80000), ('Charlie', 60000), ('David', 75000)].\n",
        "`*\n",
        "\n",
        "`key=lambda item: item[1]`: This is the crucial part for sorting.\n",
        "\n",
        "`key` is an argument of the `sorted()` function that specifies a function to be called on each element of the iterable *(in this case, the list of tuples)*.\n",
        "\n",
        "`lambda item: item[1] `is an anonymous function *(lambda function)* that takes one argument `item `*(which represents a tuple like `('Alice', 80000)`)* and returns the second element of the tuple *(the salary)*.\n",
        "\n",
        "In simpler words, this part tells `sorted()` to use the *salary (item[1])* as the basis for comparing elements.\n",
        "\n",
        "`reverse=True`: This argument tells `sorted()` to sort in descending order *(highest salary first)*. If *`reverse=False` or omitted*, the sorting would be in ascending order *(lowest salary first)*.\n",
        "\n",
        "In summary, this line of code takes the employee salaries, uses the salary as the key for sorting, and sorts them in descending order. The result is a list of tuples, where each tuple represents an employee and their salary, sorted from highest to lowest salary."
      ],
      "metadata": {
        "id": "1XsjAoUWEJ98"
      }
    },
    {
      "cell_type": "code",
      "source": [
        "sort_employees_by_salary()"
      ],
      "metadata": {
        "colab": {
          "base_uri": "https://localhost:8080/"
        },
        "id": "ewbhiGjrKMzZ",
        "outputId": "83947bc0-7eda-44fa-be93-e6188185af66"
      },
      "execution_count": 76,
      "outputs": [
        {
          "output_type": "execute_result",
          "data": {
            "text/plain": [
              "['Ebrima', 'Alice', 'David', 'Charlie']"
            ]
          },
          "metadata": {},
          "execution_count": 76
        }
      ]
    }
  ]
}